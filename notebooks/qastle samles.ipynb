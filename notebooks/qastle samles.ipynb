{
 "cells": [
  {
   "cell_type": "markdown",
   "metadata": {},
   "source": [
    "# Generate Qastle Samples\n",
    "\n",
    "In hacking this together, a small class was built to generate `qastle`. It isn't obvious this should remain in this work flow, but it did get things going fast, and it is obviously useful. As a work item, this should be included in the `func_adl` packages (see [issue](https://github.com/iris-hep/func_adl_servicex/issues/9)).\n",
    "\n",
    "But since that isn't here yet, lets do some samples using this class here."
   ]
  },
  {
   "cell_type": "code",
   "execution_count": 1,
   "metadata": {},
   "outputs": [],
   "source": [
    "from sx_multi import FuncAdlQastle"
   ]
  },
  {
   "cell_type": "markdown",
   "metadata": {},
   "source": [
    "## Getting the electron $p_T$'s from an xAOD\n",
    "\n",
    "This is tuned to fetch all the jet $p_T$ from an xAOD. It returns them as a jagged array, with each entry containing all the electron $p_T$'s for that events. The style of the query is matched to the `xAOD` data model - while the `func_adl` concepts will work anywhere, things like `e.pt()` or `e.Electrons(\"Electrons\")` mean specific things with reference to the ATLAS `xAOD`'s datamodel."
   ]
  },
  {
   "cell_type": "code",
   "execution_count": 2,
   "metadata": {},
   "outputs": [],
   "source": [
    "ds = FuncAdlQastle()\n",
    "ele_pt = ds \\\n",
    "        .Select(lambda e: e.Electrons(\"Electrons\")) \\\n",
    "        .Select(lambda ls: ls.Select(lambda e: e.pt()/1000.0)) \\\n",
    "        .AsROOTTTree('data.root', 'mytree', 'ElePt')"
   ]
  },
  {
   "cell_type": "code",
   "execution_count": 3,
   "metadata": {},
   "outputs": [
    {
     "name": "stdout",
     "output_type": "stream",
     "text": [
      "(call ResultTTree (call Select (call Select (call EventDataset 'FuncAdlQastle') (lambda (list e) (call (attr e 'Electrons') 'Electrons'))) (lambda (list ls) (call (attr ls 'Select') (lambda (list e) (/ (call (attr e 'pt')) 1000.0))))) 'ElePt' 'mytree' 'data.root')\n"
     ]
    }
   ],
   "source": [
    "print(ele_pt.value())"
   ]
  },
  {
   "cell_type": "markdown",
   "metadata": {},
   "source": [
    "Lets do the same, but only for those with a value greater than 30 GeV (the jet pT is in MeV in ATLAS)."
   ]
  },
  {
   "cell_type": "code",
   "execution_count": 4,
   "metadata": {},
   "outputs": [],
   "source": [
    "ds = FuncAdlQastle()\n",
    "ele_pt = ds \\\n",
    "        .Select(lambda e: e.Electrons(\"Electrons\")) \\\n",
    "        .Select(lambda electrons: electrons.Where(lambda e: e.pt()/1000.0 > 30)) \\\n",
    "        .Select(lambda ls: ls.Select(lambda e: e.pt()/1000.0)) \\\n",
    "        .AsROOTTTree('data.root', 'mytree', 'ElePt')"
   ]
  },
  {
   "cell_type": "code",
   "execution_count": 5,
   "metadata": {},
   "outputs": [
    {
     "name": "stdout",
     "output_type": "stream",
     "text": [
      "(call ResultTTree (call Select (call Select (call Select (call EventDataset 'FuncAdlQastle') (lambda (list e) (call (attr e 'Electrons') 'Electrons'))) (lambda (list electrons) (call (attr electrons 'Where') (lambda (list e) (> (/ (call (attr e 'pt')) 1000.0) 30))))) (lambda (list ls) (call (attr ls 'Select') (lambda (list e) (/ (call (attr e 'pt')) 1000.0))))) 'ElePt' 'mytree' 'data.root')\n"
     ]
    }
   ],
   "source": [
    "print(ele_pt.value())"
   ]
  },
  {
   "cell_type": "markdown",
   "metadata": {},
   "source": [
    "And only events where there are at least 3 of these electrons..."
   ]
  },
  {
   "cell_type": "code",
   "execution_count": 6,
   "metadata": {},
   "outputs": [],
   "source": [
    "ds = FuncAdlQastle()\n",
    "ele_pt = ds \\\n",
    "        .Select(lambda e: e.Electrons(\"Electrons\")) \\\n",
    "        .Select(lambda electrons: electrons.Where(lambda e: e.pt()/1000.0 > 30)) \\\n",
    "        .Where(lambda electrons: electrons.count() >= 3) \\\n",
    "        .Select(lambda ls: ls.Select(lambda e: e.pt()/1000.0)) \\\n",
    "        .AsROOTTTree('data.root', 'mytree', 'ElePt')"
   ]
  },
  {
   "cell_type": "code",
   "execution_count": 7,
   "metadata": {},
   "outputs": [
    {
     "name": "stdout",
     "output_type": "stream",
     "text": [
      "(call ResultTTree (call Select (call Where (call Select (call Select (call EventDataset 'FuncAdlQastle') (lambda (list e) (call (attr e 'Electrons') 'Electrons'))) (lambda (list electrons) (call (attr electrons 'Where') (lambda (list e) (> (/ (call (attr e 'pt')) 1000.0) 30))))) (lambda (list electrons) (>= (call (attr electrons 'count')) 3))) (lambda (list ls) (call (attr ls 'Select') (lambda (list e) (/ (call (attr e 'pt')) 1000.0))))) 'ElePt' 'mytree' 'data.root')\n"
     ]
    }
   ],
   "source": [
    "print(ele_pt.value())"
   ]
  },
  {
   "cell_type": "markdown",
   "metadata": {},
   "source": [
    "## Getting multiple items\n",
    "\n",
    "If we want to get multiple items in this same format, and have them as arrays (e.g. a seperate array for eta, phi, pt), then we just double up a bit."
   ]
  },
  {
   "cell_type": "code",
   "execution_count": 8,
   "metadata": {},
   "outputs": [],
   "source": [
    "ds = FuncAdlQastle()\n",
    "leptons_per_event_query = ds \\\n",
    "        .Select(lambda e: e.Electrons(\"Electrons\")) \\\n",
    "        .Select(lambda ls: (ls.Select(lambda e: e.pt()/1000.0), ls.Select(lambda e: e.eta()), ls.Select(lambda e: e.phi()), ls.Select(lambda e: e.m()/1000.0))) \\\n",
    "        .AsROOTTTree('data.root', 'mytree', ('ElePt', 'EleEta', 'ElePhi', 'EleM'))"
   ]
  },
  {
   "cell_type": "code",
   "execution_count": 9,
   "metadata": {},
   "outputs": [
    {
     "name": "stdout",
     "output_type": "stream",
     "text": [
      "(call ResultTTree (call Select (call Select (call EventDataset 'FuncAdlQastle') (lambda (list e) (call (attr e 'Electrons') 'Electrons'))) (lambda (list ls) (list (call (attr ls 'Select') (lambda (list e) (/ (call (attr e 'pt')) 1000.0))) (call (attr ls 'Select') (lambda (list e) (call (attr e 'eta')))) (call (attr ls 'Select') (lambda (list e) (call (attr e 'phi')))) (call (attr ls 'Select') (lambda (list e) (/ (call (attr e 'm')) 1000.0)))))) (list 'ElePt' 'EleEta' 'ElePhi' 'EleM') 'mytree' 'data.root')\n"
     ]
    }
   ],
   "source": [
    "print(leptons_per_event_query.value())"
   ]
  },
  {
   "cell_type": "markdown",
   "metadata": {},
   "source": [
    "Lets say you wanted to do a single entry per electron - instead of per event - so if you were going to feed this to a normal NN training. The result of below can be easily loaded into pandas - it isn't jagged at all."
   ]
  },
  {
   "cell_type": "code",
   "execution_count": 10,
   "metadata": {},
   "outputs": [],
   "source": [
    "ds = FuncAdlQastle()\n",
    "lepton_table = ds \\\n",
    "        .SelectMany(lambda evt: evt.Electrons(\"Electrons\")) \\\n",
    "        .Select(lambda e: (e.pt()/1000.0, e.eta(), e.phi(), e.m()/1000.0)) \\\n",
    "        .AsROOTTTree('data.root', 'mytree', ('ElePt', 'EleEta', 'ElePhi', 'EleM'))"
   ]
  },
  {
   "cell_type": "code",
   "execution_count": 11,
   "metadata": {},
   "outputs": [
    {
     "name": "stdout",
     "output_type": "stream",
     "text": [
      "(call ResultTTree (call Select (call SelectMany (call EventDataset 'FuncAdlQastle') (lambda (list evt) (call (attr evt 'Electrons') 'Electrons'))) (lambda (list e) (list (/ (call (attr e 'pt')) 1000.0) (call (attr e 'eta')) (call (attr e 'phi')) (/ (call (attr e 'm')) 1000.0)))) (list 'ElePt' 'EleEta' 'ElePhi' 'EleM') 'mytree' 'data.root')\n"
     ]
    }
   ],
   "source": [
    "print(lepton_table.value())"
   ]
  },
  {
   "cell_type": "markdown",
   "metadata": {},
   "source": [
    "## Working with columns from a flat root tuple file.\n",
    "\n",
    "The backend is a little different. It expects its outputs to be dictionaries. Eventually, the two backends will converge - this is just some work that is left to be done by the `func_adl` team.\n",
    "\n",
    "First, lets get a few branches out:"
   ]
  },
  {
   "cell_type": "code",
   "execution_count": 12,
   "metadata": {},
   "outputs": [],
   "source": [
    "ds = FuncAdlQastle()\n",
    "jet_pt = ds.Select(lambda e: {'JetPT': e['AnalysisJetsAuxDyn.pt']})"
   ]
  },
  {
   "cell_type": "code",
   "execution_count": 13,
   "metadata": {},
   "outputs": [
    {
     "name": "stdout",
     "output_type": "stream",
     "text": [
      "(call Select (call EventDataset 'FuncAdlQastle') (lambda (list e) (dict (list 'JetPT') (list (subscript e 'AnalysisJetsAuxDyn.pt')))))\n"
     ]
    }
   ],
   "source": [
    "print(jet_pt.value())"
   ]
  },
  {
   "cell_type": "markdown",
   "metadata": {},
   "source": [
    "Note some differences with the above:\n",
    "\n",
    "- There is no `AsROOTTTree`. Eventually the `xAOD` transformer will move to that model\n",
    "- The column names are specified as a dictionary. This will also be supported in the xAOD transformer.\n",
    "- Column names have to be specified in quotes = this refers to the ATLAS PHYSLITE sample, and there are some issues we have to resovle before we can get rid of the quotes.\n",
    "\n",
    "Several columns with no cuts are also going to be pretty easy:"
   ]
  },
  {
   "cell_type": "code",
   "execution_count": 14,
   "metadata": {},
   "outputs": [],
   "source": [
    "ds = FuncAdlQastle()\n",
    "jet_pt = ds.Select(lambda e: {\n",
    "    'JetPT':  e['AnalysisJetsAuxDyn.pt'],\n",
    "    'JetEta': e['AnalysisJetsAuxDyn.eta']\n",
    "})"
   ]
  },
  {
   "cell_type": "code",
   "execution_count": 15,
   "metadata": {},
   "outputs": [
    {
     "name": "stdout",
     "output_type": "stream",
     "text": [
      "(call Select (call EventDataset 'FuncAdlQastle') (lambda (list e) (dict (list 'JetPT' 'JetEta') (list (subscript e 'AnalysisJetsAuxDyn.pt') (subscript e 'AnalysisJetsAuxDyn.eta')))))\n"
     ]
    }
   ],
   "source": [
    "print(jet_pt.value())"
   ]
  }
 ],
 "metadata": {
  "kernelspec": {
   "display_name": "Python 3",
   "language": "python",
   "name": "python3"
  },
  "language_info": {
   "codemirror_mode": {
    "name": "ipython",
    "version": 3
   },
   "file_extension": ".py",
   "mimetype": "text/x-python",
   "name": "python",
   "nbconvert_exporter": "python",
   "pygments_lexer": "ipython3",
   "version": "3.8.6"
  }
 },
 "nbformat": 4,
 "nbformat_minor": 4
}
