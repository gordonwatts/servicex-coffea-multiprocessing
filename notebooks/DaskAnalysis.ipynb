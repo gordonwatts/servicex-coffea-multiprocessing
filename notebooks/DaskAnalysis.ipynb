{
 "cells": [
  {
   "cell_type": "code",
   "execution_count": 1,
   "metadata": {},
   "outputs": [],
   "source": [
    "from sx_multi.data_source import DataSource\n",
    "from sx_multi.analysis import Analysis\n",
    "from sx_multi.local_executor import LocalExecutor\n",
    "\n",
    "from sx_multi.dask_executor import DaskExecutor\n",
    "\n",
    "import matplotlib.pyplot as plt\n",
    "\n",
    "\n",
    "\n",
    "from servicex import ServiceXDataset\n",
    "from sx_multi import FuncAdlQastle\n",
    "from coffea import hist, processor\n"
   ]
  },
  {
   "cell_type": "code",
   "execution_count": 2,
   "metadata": {},
   "outputs": [],
   "source": [
    "dids = ['mc15_13TeV:mc15_13TeV.361106.PowhegPythia8EvtGen_AZNLOCTEQ6L1_Zee.merge.DAOD_STDM3.e3601_s2576_s2132_r6630_r6264_p2363_tid05630052_00']\n",
    "datasets = [\n",
    "    ServiceXDataset(did, backend_type='xaod')\n",
    "    for did in dids\n",
    "]"
   ]
  },
  {
   "cell_type": "code",
   "execution_count": 3,
   "metadata": {},
   "outputs": [
    {
     "data": {
      "text/plain": [
       "<func_adl.object_stream.ObjectStream at 0x132845390>"
      ]
     },
     "execution_count": 3,
     "metadata": {},
     "output_type": "execute_result"
    }
   ],
   "source": [
    "ds = FuncAdlQastle()\n",
    "leptons_per_event_query = ds \\\n",
    "        .Select(lambda e: e.Electrons(\"Electrons\")) \\\n",
    "        .Select(lambda eles: eles.Where(lambda e: e.pt()/1000.0 > 30.0)) \\\n",
    "        .Select(lambda eles: eles.Where(lambda e: abs(e.eta()) < 2.5)) \\\n",
    "        .Where(lambda eles: len(eles) == 2) \\\n",
    "        .Select(lambda ls: (ls.Select(lambda e: e.pt()/1000.0), ls.Select(lambda e: e.eta()), ls.Select(lambda e: e.phi()), ls.Select(lambda e: e.m()/1000.0))) \\\n",
    "        .AsROOTTTree('data.root', 'mytree', ('ElePt', 'EleEta', 'ElePhi', 'EleM'))\n",
    "\n",
    "leptons_per_event_query"
   ]
  },
  {
   "cell_type": "code",
   "execution_count": 4,
   "metadata": {},
   "outputs": [],
   "source": [
    "datasource = DataSource(query=leptons_per_event_query, metadata={}, datasets=datasets)"
   ]
  },
  {
   "cell_type": "code",
   "execution_count": 5,
   "metadata": {},
   "outputs": [],
   "source": [
    "class Z_EEAnalysis(Analysis):\n",
    "    def __init__(self):\n",
    "        self.accumulator = processor.dict_accumulator({\n",
    "            \"sumw\": processor.defaultdict_accumulator(float),\n",
    "            \"mass\": hist.Hist(\n",
    "                \"Events\",\n",
    "                hist.Cat(\"dataset\", \"Dataset\"),\n",
    "                hist.Bin(\"mass\", \"$Z_{ee}$ [GeV]\", 60, 60, 120),\n",
    "            ),\n",
    "        })\n",
    "\n",
    "    @staticmethod\n",
    "    def process(accumulator, events=None):\n",
    "        import awkward1 as ak\n",
    "        dataset = events.metadata['dataset']\n",
    "        electrons = ak.zip({\n",
    "            \"pt\": events.ElePt,\n",
    "            \"eta\": events.EleEta,\n",
    "            \"phi\": events.ElePhi,\n",
    "            \"mass\": events.EleM,\n",
    "            \"charge\": events.EleM,\n",
    "        }, with_name=\"PtEtaPhiMCandidate\")\n",
    "\n",
    "        # The template of the output we will send back.\n",
    "        output = accumulator.identity()\n",
    "\n",
    "        # Do the buts, form the invar mass, plot.\n",
    "        cut = (ak.num(electrons) == 2)\n",
    "        diele = electrons[cut][:, 0] + electrons[cut][:, 1]\n",
    "\n",
    "        output[\"sumw\"][dataset] += len(events)\n",
    "        output[\"mass\"].fill(\n",
    "            dataset=dataset,\n",
    "            mass=diele.mass,\n",
    "        )\n",
    "\n",
    "        return output\n",
    "\n"
   ]
  },
  {
   "cell_type": "code",
   "execution_count": 8,
   "metadata": {},
   "outputs": [
    {
     "name": "stdout",
     "output_type": "stream",
     "text": [
      "None\n"
     ]
    },
    {
     "name": "stderr",
     "output_type": "stream",
     "text": [
      "/Users/bengal1/.local/share/virtualenvs/funcx_coffea/lib/python3.7/site-packages/distributed/client.py:1129: VersionMismatchWarning: Mismatched versions found\n",
      "\n",
      "+-------------+--------+-----------+---------+\n",
      "| Package     | client | scheduler | workers |\n",
      "+-------------+--------+-----------+---------+\n",
      "| blosc       | None   | 1.9.2     | None    |\n",
      "| distributed | 2.30.1 | 2.30.0    | None    |\n",
      "| tornado     | 6.1    | 6.0.4     | None    |\n",
      "+-------------+--------+-----------+---------+\n",
      "  warnings.warn(version_module.VersionMismatchWarning(msg[0][\"warning\"]))\n"
     ]
    }
   ],
   "source": [
    "analysis = Z_EEAnalysis()\n",
    "executor = DaskExecutor(client_addr=\"127.0.0.1:8080\")\n"
   ]
  },
  {
   "cell_type": "code",
   "execution_count": 9,
   "metadata": {},
   "outputs": [
    {
     "data": {
      "application/vnd.jupyter.widget-view+json": {
       "model_id": "",
       "version_major": 2,
       "version_minor": 0
      },
      "text/plain": [
       "HBox(children=(HTML(value='mc15_13TeV:mc15_13TeV.361106.PowhegPythia8EvtGen_AZNLOCTEQ6L1_Zee.merge.DAOD_STDM3.…"
      ]
     },
     "metadata": {},
     "output_type": "display_data"
    },
    {
     "data": {
      "application/vnd.jupyter.widget-view+json": {
       "model_id": "3b01e3b9bf454922aeb152cbec86d53e",
       "version_major": 2,
       "version_minor": 0
      },
      "text/plain": [
       "HBox(children=(HTML(value='        Downloaded'), FloatProgress(value=0.0, layout=Layout(flex='2'), max=9000000…"
      ]
     },
     "metadata": {},
     "output_type": "display_data"
    },
    {
     "name": "stdout",
     "output_type": "stream",
     "text": [
      "{'sumw': defaultdict_accumulator(<class 'float'>, {'mc15x': 24000.0}), 'mass': <Hist (dataset,mass) instance at 0x132d5cc10>}\n"
     ]
    },
    {
     "data": {
      "application/vnd.jupyter.widget-view+json": {
       "model_id": "d9e044d392f94da6a00d5910b57deffb",
       "version_major": 2,
       "version_minor": 0
      },
      "text/plain": [
       "Canvas(toolbar=Toolbar(toolitems=[('Home', 'Reset original view', 'home', 'home'), ('Back', 'Back to previous …"
      ]
     },
     "metadata": {},
     "output_type": "display_data"
    },
    {
     "name": "stdout",
     "output_type": "stream",
     "text": [
      "{'sumw': defaultdict_accumulator(<class 'float'>, {'mc15x': 45000.0}), 'mass': <Hist (dataset,mass) instance at 0x132e2f190>}\n",
      "{'sumw': defaultdict_accumulator(<class 'float'>, {'mc15x': 50000.0}), 'mass': <Hist (dataset,mass) instance at 0x132e5f250>}\n",
      "{'sumw': defaultdict_accumulator(<class 'float'>, {'mc15x': 50000.0}), 'mass': <Hist (dataset,mass) instance at 0x132e8af10>}\n",
      "{'sumw': defaultdict_accumulator(<class 'float'>, {'mc15x': 50000.0}), 'mass': <Hist (dataset,mass) instance at 0x132e8aed0>}\n",
      "{'sumw': defaultdict_accumulator(<class 'float'>, {'mc15x': 125000.0}), 'mass': <Hist (dataset,mass) instance at 0x132f118d0>}\n",
      "{'sumw': defaultdict_accumulator(<class 'float'>, {'mc15x': 150000.0}), 'mass': <Hist (dataset,mass) instance at 0x132daf1d0>}\n",
      "{'sumw': defaultdict_accumulator(<class 'float'>, {'mc15x': 150000.0}), 'mass': <Hist (dataset,mass) instance at 0x132be0c50>}\n",
      "{'sumw': defaultdict_accumulator(<class 'float'>, {'mc15x': 150000.0}), 'mass': <Hist (dataset,mass) instance at 0x132baff10>}\n",
      "{'sumw': defaultdict_accumulator(<class 'float'>, {'mc15x': 150000.0}), 'mass': <Hist (dataset,mass) instance at 0x1329432d0>}\n",
      "{'sumw': defaultdict_accumulator(<class 'float'>, {'mc15x': 150000.0}), 'mass': <Hist (dataset,mass) instance at 0x132e53ed0>}\n",
      "{'sumw': defaultdict_accumulator(<class 'float'>, {'mc15x': 150000.0}), 'mass': <Hist (dataset,mass) instance at 0x132f4da10>}\n",
      "{'sumw': defaultdict_accumulator(<class 'float'>, {'mc15x': 150000.0}), 'mass': <Hist (dataset,mass) instance at 0x132f44d90>}\n",
      "{'sumw': defaultdict_accumulator(<class 'float'>, {'mc15x': 149800.0}), 'mass': <Hist (dataset,mass) instance at 0x132f44dd0>}\n",
      "{'sumw': defaultdict_accumulator(<class 'float'>, {'mc15x': 150000.0}), 'mass': <Hist (dataset,mass) instance at 0x132fab110>}\n",
      "{'sumw': defaultdict_accumulator(<class 'float'>, {'mc15x': 150000.0}), 'mass': <Hist (dataset,mass) instance at 0x132f44fd0>}\n",
      "{'sumw': defaultdict_accumulator(<class 'float'>, {'mc15x': 150000.0}), 'mass': <Hist (dataset,mass) instance at 0x132fdcd10>}\n"
     ]
    },
    {
     "data": {
      "text/plain": [
       "{'sumw': defaultdict_accumulator(float, {'mc15x': 1993800.0}),\n",
       " 'mass': <Hist (dataset,mass) instance at 0x131ae54d0>}"
      ]
     },
     "execution_count": 9,
     "metadata": {},
     "output_type": "execute_result"
    }
   ],
   "source": [
    "%matplotlib widget\n",
    "async def plot_stream(accumulator_stream):\n",
    "  async for coffea_info in accumulator_stream:\n",
    "    # Need to ask coffea folks how to anomate this!\n",
    "    hist.plot1d(coffea_info['mass'])\n",
    "    plt.show()\n",
    "  return coffea_info\n",
    "\n",
    "await plot_stream(executor.execute(analysis, datasource))"
   ]
  },
  {
   "cell_type": "code",
   "execution_count": null,
   "metadata": {},
   "outputs": [],
   "source": []
  }
 ],
 "metadata": {
  "kernelspec": {
   "display_name": "Python 3",
   "language": "python",
   "name": "python3"
  },
  "language_info": {
   "codemirror_mode": {
    "name": "ipython",
    "version": 3
   },
   "file_extension": ".py",
   "mimetype": "text/x-python",
   "name": "python",
   "nbconvert_exporter": "python",
   "pygments_lexer": "ipython3",
   "version": "3.7.6"
  }
 },
 "nbformat": 4,
 "nbformat_minor": 4
}
