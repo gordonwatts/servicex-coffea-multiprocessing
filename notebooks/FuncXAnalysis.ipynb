{
 "cells": [
  {
   "cell_type": "code",
   "execution_count": 1,
   "metadata": {},
   "outputs": [],
   "source": [
    "from sx_multi import DataSource\n",
    "from sx_multi import Analysis\n",
    "from sx_multi import Accumulator\n",
    "from sx_multi import LocalExecutor\n",
    "\n",
    "from sx_multi import FuncXExecutor\n",
    "\n",
    "import matplotlib.pyplot as plt\n",
    "\n",
    "\n",
    "\n",
    "from servicex import ServiceXDataset\n",
    "from sx_multi import FuncAdlDataset\n",
    "from coffea import hist, processor\n"
   ]
  },
  {
   "cell_type": "code",
   "execution_count": 2,
   "metadata": {},
   "outputs": [],
   "source": [
    "dids = ['mc15_13TeV:mc15_13TeV.361106.PowhegPythia8EvtGen_AZNLOCTEQ6L1_Zee.merge.DAOD_STDM3.e3601_s2576_s2132_r6630_r6264_p2363_tid05630052_00']\n",
    "datasets = [\n",
    "    ServiceXDataset(did, backend_type='xaod')\n",
    "    for did in dids\n",
    "]"
   ]
  },
  {
   "cell_type": "code",
   "execution_count": 3,
   "metadata": {},
   "outputs": [],
   "source": [
    "leptons_per_event_query = FuncAdlDataset() \\\n",
    "        .Select(lambda e: e.Electrons(\"Electrons\")) \\\n",
    "        .Select(lambda eles: eles.Where(lambda e: e.pt()/1000.0 > 30.0)) \\\n",
    "        .Select(lambda eles: eles.Where(lambda e: abs(e.eta()) < 2.5)) \\\n",
    "        .Where(lambda eles: len(eles) == 2) \\\n",
    "        .Select(lambda ls: (ls.Select(lambda e: e.pt()/1000.0), ls.Select(lambda e: e.eta()), ls.Select(lambda e: e.phi()), ls.Select(lambda e: e.m()/1000.0), ls.Select(lambda e: e.charge()))) \\\n",
    "        .AsROOTTTree('data.root', 'mytree', ('electrons_pt', 'electrons_eta', 'electrons_phi', 'electrons_mass', 'electrons_charge'))"
   ]
  },
  {
   "cell_type": "code",
   "execution_count": 4,
   "metadata": {},
   "outputs": [],
   "source": [
    "datasource = DataSource(query=leptons_per_event_query, metadata={}, datasets=datasets)"
   ]
  },
  {
   "cell_type": "code",
   "execution_count": 5,
   "metadata": {},
   "outputs": [],
   "source": [
    "class Z_EEAnalysis(Analysis):\n",
    "    def __init__(self):\n",
    "        self.accumulator = Accumulator({\n",
    "            \"mass\": hist.Hist(\n",
    "                \"Events\",\n",
    "                hist.Cat(\"dataset\", \"Dataset\"),\n",
    "                hist.Bin(\"mass\", \"$Z_{ee}$ [GeV]\", 60, 60, 120),\n",
    "            ),\n",
    "        })\n",
    "\n",
    "    @staticmethod\n",
    "    def process(output, events):\n",
    "        from sx_multi import Accumulator\n",
    "        import awkward1 as ak\n",
    "\n",
    "        dataset = events.metadata['dataset']\n",
    "        electrons = events.electrons\n",
    "\n",
    "        # Form the invar mass, plot.\n",
    "        cut = (ak.num(electrons) == 2)\n",
    "        diele = electrons[cut][:, 0] + electrons[cut][:, 1]\n",
    "\n",
    "        output[\"sumw\"][dataset] += len(events)\n",
    "        output[\"mass\"].fill(\n",
    "            dataset=dataset,\n",
    "            mass=diele.mass,\n",
    "        )\n",
    "\n",
    "        return output\n",
    "\n"
   ]
  },
  {
   "cell_type": "code",
   "execution_count": 6,
   "metadata": {},
   "outputs": [
    {
     "name": "stdout",
     "output_type": "stream",
     "text": [
      "Batch result:  {}\n"
     ]
    }
   ],
   "source": [
    "analysis = Z_EEAnalysis()\n",
    "executor = FuncXExecutor(endpoint_id='d0a328a1-320d-4221-9d53-142189f77e71')\n",
    "# executor = LocalExecutor()"
   ]
  },
  {
   "cell_type": "code",
   "execution_count": 7,
   "metadata": {},
   "outputs": [
    {
     "data": {
      "application/vnd.jupyter.widget-view+json": {
       "model_id": "",
       "version_major": 2,
       "version_minor": 0
      },
      "text/plain": [
       "HBox(children=(HTML(value='mc15_13TeV:mc15_13TeV.361106.PowhegPythia8EvtGen_AZNLOCTEQ6L1_Zee.merge.DAOD_STDM3.…"
      ]
     },
     "metadata": {},
     "output_type": "display_data"
    },
    {
     "data": {
      "application/vnd.jupyter.widget-view+json": {
       "model_id": "91977732723146f1aed8e20330d08e72",
       "version_major": 2,
       "version_minor": 0
      },
      "text/plain": [
       "HBox(children=(HTML(value='        Downloaded'), FloatProgress(value=0.0, layout=Layout(flex='2'), max=9000000…"
      ]
     },
     "metadata": {},
     "output_type": "display_data"
    },
    {
     "name": "stdout",
     "output_type": "stream",
     "text": [
      "Batch result:  {'ba8e9ae6-4878-4312-a8d9-10ae692c701e': {'pending': True, 'status': 'waiting-for-nodes'}, '6240cddd-d0f0-4813-aa0c-680214bd07d3': {'pending': True, 'status': 'waiting-for-nodes'}, 'f83a8dd6-7d5e-45df-979c-82eba6621dba': {'pending': True, 'status': 'waiting-for-nodes'}, '955e2a3f-d53f-4b70-8121-25eba0640ca7': {'pending': True, 'status': 'waiting-for-nodes'}, '1764340b-2643-4797-947c-479c12d98d49': {'pending': True, 'status': 'waiting-for-nodes'}, '401781c1-3dac-4ea6-ab8c-ebfc47bc21b2': {'pending': True, 'status': 'waiting-for-nodes'}, '96180a37-a9ea-4525-aca5-c0424fcb2e90': {'pending': True, 'status': 'waiting-for-nodes'}, '44742f5f-3342-4a0e-8992-1a96538dc241': {'pending': True, 'status': 'waiting-for-nodes'}, 'ecc000b4-3791-43fd-bb69-b06a2630e162': {'pending': True, 'status': 'waiting-for-nodes'}, '9cdc174f-e6a4-495b-b837-889e8f0dff3c': {'pending': True, 'status': 'waiting-for-nodes'}, '882fe73f-c58b-42f7-b529-3fba255813a7': {'pending': True, 'status': 'waiting-for-nodes'}, '06e0e3de-451d-4bb3-b59c-4dd9db6c532e': {'pending': True, 'status': 'waiting-for-nodes'}, 'c02538cb-ad47-41af-a964-3f7783d33063': {'pending': True, 'status': 'waiting-for-nodes'}, 'd5a075b8-59bf-4484-aa65-832aa8594750': {'pending': True, 'status': 'waiting-for-nodes'}, '49168ad6-6a38-4ac0-b420-40107e441ec2': {'pending': True, 'status': 'waiting-for-nodes'}, '5cb79bd7-e7ae-466d-877a-583019e5dc81': {'pending': True, 'status': 'waiting-for-nodes'}, 'a3175096-97d6-4ab7-9d33-b3948c5c97bb': {'pending': True, 'status': 'waiting-for-nodes'}}\n",
      "Batch result:  {'ba8e9ae6-4878-4312-a8d9-10ae692c701e': {'pending': False, 'status': 'success', 'result': {'mass': <Hist (dataset,mass) instance at 0x132f00b10>, 'sumw': defaultdict_accumulator(<class 'float'>, {'mc15x': 50000.0})}, 'completion_t': '1606340243.6777673'}, '6240cddd-d0f0-4813-aa0c-680214bd07d3': {'pending': True, 'status': 'waiting-for-nodes'}, 'f83a8dd6-7d5e-45df-979c-82eba6621dba': {'pending': True, 'status': 'waiting-for-nodes'}, '955e2a3f-d53f-4b70-8121-25eba0640ca7': {'pending': True, 'status': 'waiting-for-nodes'}, '1764340b-2643-4797-947c-479c12d98d49': {'pending': True, 'status': 'waiting-for-nodes'}, '401781c1-3dac-4ea6-ab8c-ebfc47bc21b2': {'pending': True, 'status': 'waiting-for-nodes'}, '96180a37-a9ea-4525-aca5-c0424fcb2e90': {'pending': True, 'status': 'waiting-for-nodes'}, '44742f5f-3342-4a0e-8992-1a96538dc241': {'pending': True, 'status': 'waiting-for-nodes'}, 'ecc000b4-3791-43fd-bb69-b06a2630e162': {'pending': False, 'status': 'success', 'result': {'mass': <Hist (dataset,mass) instance at 0x132ea3a90>, 'sumw': defaultdict_accumulator(<class 'float'>, {'mc15x': 50000.0})}, 'completion_t': '1606340245.9008393'}, '9cdc174f-e6a4-495b-b837-889e8f0dff3c': {'pending': True, 'status': 'waiting-for-nodes'}, '882fe73f-c58b-42f7-b529-3fba255813a7': {'pending': False, 'status': 'success', 'result': {'mass': <Hist (dataset,mass) instance at 0x132f00310>, 'sumw': defaultdict_accumulator(<class 'float'>, {'mc15x': 24000.0})}, 'completion_t': '1606340245.4402695'}, '06e0e3de-451d-4bb3-b59c-4dd9db6c532e': {'pending': True, 'status': 'waiting-for-nodes'}, 'c02538cb-ad47-41af-a964-3f7783d33063': {'pending': True, 'status': 'waiting-for-nodes'}, 'd5a075b8-59bf-4484-aa65-832aa8594750': {'pending': True, 'status': 'waiting-for-nodes'}, '49168ad6-6a38-4ac0-b420-40107e441ec2': {'pending': False, 'status': 'success', 'result': {'mass': <Hist (dataset,mass) instance at 0x132f00110>, 'sumw': defaultdict_accumulator(<class 'float'>, {'mc15x': 45000.0})}, 'completion_t': '1606340246.1478188'}, '5cb79bd7-e7ae-466d-877a-583019e5dc81': {'pending': True, 'status': 'waiting-for-nodes'}, 'a3175096-97d6-4ab7-9d33-b3948c5c97bb': {'pending': True, 'status': 'waiting-for-nodes'}}\n",
      "Batch result:  {'6240cddd-d0f0-4813-aa0c-680214bd07d3': {'pending': True, 'status': 'waiting-for-nodes'}, 'f83a8dd6-7d5e-45df-979c-82eba6621dba': {'pending': True, 'status': 'waiting-for-nodes'}, '955e2a3f-d53f-4b70-8121-25eba0640ca7': {'pending': True, 'status': 'waiting-for-nodes'}, '1764340b-2643-4797-947c-479c12d98d49': {'pending': True, 'status': 'waiting-for-nodes'}, '401781c1-3dac-4ea6-ab8c-ebfc47bc21b2': {'pending': True, 'status': 'waiting-for-nodes'}, '96180a37-a9ea-4525-aca5-c0424fcb2e90': {'pending': True, 'status': 'waiting-for-nodes'}, '44742f5f-3342-4a0e-8992-1a96538dc241': {'pending': True, 'status': 'waiting-for-nodes'}, '9cdc174f-e6a4-495b-b837-889e8f0dff3c': {'pending': True, 'status': 'waiting-for-nodes'}, '06e0e3de-451d-4bb3-b59c-4dd9db6c532e': {'pending': True, 'status': 'waiting-for-nodes'}, 'c02538cb-ad47-41af-a964-3f7783d33063': {'pending': False, 'status': 'success', 'result': {'mass': <Hist (dataset,mass) instance at 0x132edf190>, 'sumw': defaultdict_accumulator(<class 'float'>, {'mc15x': 50000.0})}, 'completion_t': '1606340246.21065'}, 'd5a075b8-59bf-4484-aa65-832aa8594750': {'pending': True, 'status': 'waiting-for-nodes'}, '5cb79bd7-e7ae-466d-877a-583019e5dc81': {'pending': True, 'status': 'waiting-for-nodes'}, 'a3175096-97d6-4ab7-9d33-b3948c5c97bb': {'pending': True, 'status': 'waiting-for-nodes'}}\n",
      "Batch result:  {'6240cddd-d0f0-4813-aa0c-680214bd07d3': {'pending': True, 'status': 'waiting-for-nodes'}, 'f83a8dd6-7d5e-45df-979c-82eba6621dba': {'pending': True, 'status': 'waiting-for-nodes'}, '955e2a3f-d53f-4b70-8121-25eba0640ca7': {'pending': True, 'status': 'waiting-for-nodes'}, '1764340b-2643-4797-947c-479c12d98d49': {'pending': True, 'status': 'waiting-for-nodes'}, '401781c1-3dac-4ea6-ab8c-ebfc47bc21b2': {'pending': True, 'status': 'waiting-for-nodes'}, '96180a37-a9ea-4525-aca5-c0424fcb2e90': {'pending': True, 'status': 'waiting-for-nodes'}, '44742f5f-3342-4a0e-8992-1a96538dc241': {'pending': True, 'status': 'waiting-for-nodes'}, '9cdc174f-e6a4-495b-b837-889e8f0dff3c': {'pending': True, 'status': 'waiting-for-nodes'}, '06e0e3de-451d-4bb3-b59c-4dd9db6c532e': {'pending': True, 'status': 'waiting-for-nodes'}, 'd5a075b8-59bf-4484-aa65-832aa8594750': {'pending': True, 'status': 'waiting-for-nodes'}, '5cb79bd7-e7ae-466d-877a-583019e5dc81': {'pending': True, 'status': 'waiting-for-nodes'}, 'a3175096-97d6-4ab7-9d33-b3948c5c97bb': {'pending': True, 'status': 'waiting-for-nodes'}}\n",
      "{'mass': <Hist (dataset,mass) instance at 0x132f00b10>, 'sumw': defaultdict_accumulator(<class 'float'>, {'mc15x': 50000.0})}\n"
     ]
    },
    {
     "data": {
      "application/vnd.jupyter.widget-view+json": {
       "model_id": "c818c7825bcc4e41b6fa056e61051215",
       "version_major": 2,
       "version_minor": 0
      },
      "text/plain": [
       "Canvas(toolbar=Toolbar(toolitems=[('Home', 'Reset original view', 'home', 'home'), ('Back', 'Back to previous …"
      ]
     },
     "metadata": {},
     "output_type": "display_data"
    },
    {
     "name": "stdout",
     "output_type": "stream",
     "text": [
      "{'mass': <Hist (dataset,mass) instance at 0x132ea3a90>, 'sumw': defaultdict_accumulator(<class 'float'>, {'mc15x': 50000.0})}\n",
      "{'mass': <Hist (dataset,mass) instance at 0x132f00310>, 'sumw': defaultdict_accumulator(<class 'float'>, {'mc15x': 24000.0})}\n",
      "{'mass': <Hist (dataset,mass) instance at 0x132edf190>, 'sumw': defaultdict_accumulator(<class 'float'>, {'mc15x': 50000.0})}\n",
      "{'mass': <Hist (dataset,mass) instance at 0x132f00110>, 'sumw': defaultdict_accumulator(<class 'float'>, {'mc15x': 45000.0})}\n",
      "Batch result:  {'6240cddd-d0f0-4813-aa0c-680214bd07d3': {'pending': False, 'status': 'success', 'result': {'mass': <Hist (dataset,mass) instance at 0x132f81550>, 'sumw': defaultdict_accumulator(<class 'float'>, {'mc15x': 150000.0})}, 'completion_t': '1606340248.4396546'}, 'f83a8dd6-7d5e-45df-979c-82eba6621dba': {'pending': False, 'status': 'success', 'result': {'mass': <Hist (dataset,mass) instance at 0x132f06e90>, 'sumw': defaultdict_accumulator(<class 'float'>, {'mc15x': 150000.0})}, 'completion_t': '1606340247.3710723'}, '955e2a3f-d53f-4b70-8121-25eba0640ca7': {'pending': False, 'status': 'success', 'result': {'mass': <Hist (dataset,mass) instance at 0x13304be10>, 'sumw': defaultdict_accumulator(<class 'float'>, {'mc15x': 150000.0})}, 'completion_t': '1606340247.1779568'}, '1764340b-2643-4797-947c-479c12d98d49': {'pending': False, 'status': 'success', 'result': {'mass': <Hist (dataset,mass) instance at 0x133070ed0>, 'sumw': defaultdict_accumulator(<class 'float'>, {'mc15x': 125000.0})}, 'completion_t': '1606340246.8484373'}, '401781c1-3dac-4ea6-ab8c-ebfc47bc21b2': {'pending': False, 'status': 'success', 'result': {'mass': <Hist (dataset,mass) instance at 0x133070690>, 'sumw': defaultdict_accumulator(<class 'float'>, {'mc15x': 149800.0})}, 'completion_t': '1606340247.478763'}, '96180a37-a9ea-4525-aca5-c0424fcb2e90': {'pending': False, 'status': 'success', 'result': {'mass': <Hist (dataset,mass) instance at 0x132f81510>, 'sumw': defaultdict_accumulator(<class 'float'>, {'mc15x': 150000.0})}, 'completion_t': '1606340247.9820313'}, '44742f5f-3342-4a0e-8992-1a96538dc241': {'pending': False, 'status': 'success', 'result': {'mass': <Hist (dataset,mass) instance at 0x133074cd0>, 'sumw': defaultdict_accumulator(<class 'float'>, {'mc15x': 150000.0})}, 'completion_t': '1606340248.6854224'}, '9cdc174f-e6a4-495b-b837-889e8f0dff3c': {'pending': False, 'status': 'success', 'result': {'mass': <Hist (dataset,mass) instance at 0x133074dd0>, 'sumw': defaultdict_accumulator(<class 'float'>, {'mc15x': 150000.0})}, 'completion_t': '1606340248.4920065'}, '06e0e3de-451d-4bb3-b59c-4dd9db6c532e': {'pending': False, 'status': 'success', 'result': {'mass': <Hist (dataset,mass) instance at 0x1330739d0>, 'sumw': defaultdict_accumulator(<class 'float'>, {'mc15x': 150000.0})}, 'completion_t': '1606340248.756018'}, 'd5a075b8-59bf-4484-aa65-832aa8594750': {'pending': False, 'status': 'success', 'result': {'mass': <Hist (dataset,mass) instance at 0x133073cd0>, 'sumw': defaultdict_accumulator(<class 'float'>, {'mc15x': 150000.0})}, 'completion_t': '1606340248.7624345'}, '5cb79bd7-e7ae-466d-877a-583019e5dc81': {'pending': False, 'status': 'success', 'result': {'mass': <Hist (dataset,mass) instance at 0x133073dd0>, 'sumw': defaultdict_accumulator(<class 'float'>, {'mc15x': 150000.0})}, 'completion_t': '1606340248.6674194'}, 'a3175096-97d6-4ab7-9d33-b3948c5c97bb': {'pending': False, 'status': 'success', 'result': {'mass': <Hist (dataset,mass) instance at 0x133070c50>, 'sumw': defaultdict_accumulator(<class 'float'>, {'mc15x': 150000.0})}, 'completion_t': '1606340248.8950012'}}\n",
      "Batch result:  {}\n",
      "{'mass': <Hist (dataset,mass) instance at 0x132f81550>, 'sumw': defaultdict_accumulator(<class 'float'>, {'mc15x': 150000.0})}\n",
      "{'mass': <Hist (dataset,mass) instance at 0x132f06e90>, 'sumw': defaultdict_accumulator(<class 'float'>, {'mc15x': 150000.0})}\n",
      "{'mass': <Hist (dataset,mass) instance at 0x13304be10>, 'sumw': defaultdict_accumulator(<class 'float'>, {'mc15x': 150000.0})}\n",
      "{'mass': <Hist (dataset,mass) instance at 0x133070ed0>, 'sumw': defaultdict_accumulator(<class 'float'>, {'mc15x': 125000.0})}\n",
      "{'mass': <Hist (dataset,mass) instance at 0x133070690>, 'sumw': defaultdict_accumulator(<class 'float'>, {'mc15x': 149800.0})}\n",
      "{'mass': <Hist (dataset,mass) instance at 0x132f81510>, 'sumw': defaultdict_accumulator(<class 'float'>, {'mc15x': 150000.0})}\n",
      "{'mass': <Hist (dataset,mass) instance at 0x133074cd0>, 'sumw': defaultdict_accumulator(<class 'float'>, {'mc15x': 150000.0})}\n",
      "{'mass': <Hist (dataset,mass) instance at 0x133074dd0>, 'sumw': defaultdict_accumulator(<class 'float'>, {'mc15x': 150000.0})}\n",
      "{'mass': <Hist (dataset,mass) instance at 0x1330739d0>, 'sumw': defaultdict_accumulator(<class 'float'>, {'mc15x': 150000.0})}\n",
      "{'mass': <Hist (dataset,mass) instance at 0x133073cd0>, 'sumw': defaultdict_accumulator(<class 'float'>, {'mc15x': 150000.0})}\n",
      "{'mass': <Hist (dataset,mass) instance at 0x133073dd0>, 'sumw': defaultdict_accumulator(<class 'float'>, {'mc15x': 150000.0})}\n",
      "{'mass': <Hist (dataset,mass) instance at 0x133070c50>, 'sumw': defaultdict_accumulator(<class 'float'>, {'mc15x': 150000.0})}\n"
     ]
    },
    {
     "data": {
      "text/plain": [
       "{'mass': <Hist (dataset,mass) instance at 0x132cbda90>,\n",
       " 'sumw': defaultdict_accumulator(float, {'mc15x': 1993800.0})}"
      ]
     },
     "execution_count": 7,
     "metadata": {},
     "output_type": "execute_result"
    }
   ],
   "source": [
    "%matplotlib widget\n",
    "async def plot_stream(accumulator_stream):\n",
    "  async for coffea_info in accumulator_stream:\n",
    "    # Need to ask coffea folks how to anomate this!\n",
    "    hist.plot1d(coffea_info['mass'])\n",
    "    plt.show()\n",
    "  return coffea_info\n",
    "\n",
    "await plot_stream(executor.execute(analysis, datasource))"
   ]
  },
  {
   "cell_type": "code",
   "execution_count": null,
   "metadata": {},
   "outputs": [],
   "source": []
  }
 ],
 "metadata": {
  "kernelspec": {
   "display_name": "Python 3",
   "language": "python",
   "name": "python3"
  },
  "language_info": {
   "codemirror_mode": {
    "name": "ipython",
    "version": 3
   },
   "file_extension": ".py",
   "mimetype": "text/x-python",
   "name": "python",
   "nbconvert_exporter": "python",
   "pygments_lexer": "ipython3",
   "version": "3.7.6"
  }
 },
 "nbformat": 4,
 "nbformat_minor": 4
}
