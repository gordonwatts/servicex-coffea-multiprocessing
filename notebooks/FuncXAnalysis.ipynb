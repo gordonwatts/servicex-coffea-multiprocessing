{
 "cells": [
  {
   "cell_type": "code",
   "execution_count": 1,
   "metadata": {},
   "outputs": [],
   "source": [
    "from sx_multi import DataSource\n",
    "from sx_multi import Analysis\n",
    "from sx_multi import Accumulator\n",
    "from sx_multi import LocalExecutor\n",
    "\n",
    "from sx_multi import FuncXExecutor\n",
    "\n",
    "import matplotlib.pyplot as plt\n",
    "\n",
    "\n",
    "\n",
    "from servicex import ServiceXDataset\n",
    "from sx_multi import FuncAdlDataset\n",
    "from coffea import hist, processor\n"
   ]
  },
  {
   "cell_type": "code",
   "execution_count": 2,
   "metadata": {},
   "outputs": [],
   "source": [
    "dids = ['mc15_13TeV:mc15_13TeV.361106.PowhegPythia8EvtGen_AZNLOCTEQ6L1_Zee.merge.DAOD_STDM3.e3601_s2576_s2132_r6630_r6264_p2363_tid05630052_00']\n",
    "datasets = [\n",
    "    ServiceXDataset(did, backend_type='xaod')\n",
    "    for did in dids\n",
    "]"
   ]
  },
  {
   "cell_type": "code",
   "execution_count": 3,
   "metadata": {},
   "outputs": [],
   "source": [
    "leptons_per_event_query = FuncAdlDataset() \\\n",
    "        .Select(lambda e: e.Electrons(\"Electrons\")) \\\n",
    "        .Select(lambda eles: eles.Where(lambda e: e.pt()/1000.0 > 30.0)) \\\n",
    "        .Select(lambda eles: eles.Where(lambda e: abs(e.eta()) < 2.5)) \\\n",
    "        .Where(lambda eles: len(eles) == 2) \\\n",
    "        .Select(lambda ls: (ls.Select(lambda e: e.pt()/1000.0), ls.Select(lambda e: e.eta()), ls.Select(lambda e: e.phi()), ls.Select(lambda e: e.m()/1000.0), ls.Select(lambda e: e.charge()))) \\\n",
    "        .AsROOTTTree('data.root', 'mytree', ('electrons_pt', 'electrons_eta', 'electrons_phi', 'electrons_mass', 'electrons_charge'))"
   ]
  },
  {
   "cell_type": "code",
   "execution_count": 4,
   "metadata": {},
   "outputs": [],
   "source": [
    "datasource = DataSource(query=leptons_per_event_query, metadata={}, datasets=datasets)"
   ]
  },
  {
   "cell_type": "code",
   "execution_count": 5,
   "metadata": {},
   "outputs": [],
   "source": [
    "class Z_EEAnalysis(Analysis):\n",
    "    def __init__(self):\n",
    "        self.accumulator = Accumulator({\n",
    "            \"mass\": hist.Hist(\n",
    "                \"Events\",\n",
    "                hist.Cat(\"dataset\", \"Dataset\"),\n",
    "                hist.Bin(\"mass\", \"$Z_{ee}$ [GeV]\", 60, 60, 120),\n",
    "            ),\n",
    "        })\n",
    "\n",
    "    @staticmethod\n",
    "    def process(output, events):\n",
    "        import awkward1 as ak\n",
    "\n",
    "        dataset = events.metadata['dataset']\n",
    "        electrons = events.electrons\n",
    "\n",
    "        # Form the invar mass, plot.\n",
    "        cut = (ak.num(electrons) == 2)\n",
    "        diele = electrons[cut][:, 0] + electrons[cut][:, 1]\n",
    "\n",
    "        output[\"sumw\"][dataset] += len(events)\n",
    "        output[\"mass\"].fill(\n",
    "            dataset=dataset,\n",
    "            mass=diele.mass,\n",
    "        )\n",
    "\n",
    "        return output\n",
    "\n"
   ]
  },
  {
   "cell_type": "code",
   "execution_count": 6,
   "metadata": {},
   "outputs": [
    {
     "name": "stdout",
     "output_type": "stream",
     "text": [
      "Batch result:  {}\n"
     ]
    }
   ],
   "source": [
    "analysis = Z_EEAnalysis()\n",
    "executor = FuncXExecutor(endpoint_id='d0a328a1-320d-4221-9d53-142189f77e71')\n",
    "# executor = LocalExecutor()"
   ]
  },
  {
   "cell_type": "code",
   "execution_count": 7,
   "metadata": {},
   "outputs": [
    {
     "data": {
      "application/vnd.jupyter.widget-view+json": {
       "model_id": "",
       "version_major": 2,
       "version_minor": 0
      },
      "text/plain": [
       "HBox(children=(HTML(value='mc15_13TeV:mc15_13TeV.361106.PowhegPythia8EvtGen_AZNLOCTEQ6L1_Zee.merge.DAOD_STDM3.…"
      ]
     },
     "metadata": {},
     "output_type": "display_data"
    },
    {
     "data": {
      "application/vnd.jupyter.widget-view+json": {
       "model_id": "eff6d9db21014b6b9f93bbde71f54d99",
       "version_major": 2,
       "version_minor": 0
      },
      "text/plain": [
       "HBox(children=(HTML(value='        Downloaded'), FloatProgress(value=0.0, layout=Layout(flex='2'), max=9000000…"
      ]
     },
     "metadata": {},
     "output_type": "display_data"
    },
    {
     "name": "stdout",
     "output_type": "stream",
     "text": [
      "Batch result:  {'ab093e20-ee58-4c1a-a7ba-4dd56cea785c': {'pending': False, 'status': 'success', 'result': {'mass': <Hist (dataset,mass) instance at 0x12ff52850>, 'sumw': defaultdict_accumulator(<class 'float'>, {'mc15x': 50000.0})}, 'completion_t': '1606340668.3752534'}, '72b1b9f3-6427-486b-8fef-ecddcf14e97c': {'pending': False, 'status': 'success', 'result': {'mass': <Hist (dataset,mass) instance at 0x12fbc9a10>, 'sumw': defaultdict_accumulator(<class 'float'>, {'mc15x': 150000.0})}, 'completion_t': '1606340670.8643506'}, '9470633c-d314-4aea-b11e-865a310894af': {'pending': False, 'status': 'success', 'result': {'mass': <Hist (dataset,mass) instance at 0x12fef6e50>, 'sumw': defaultdict_accumulator(<class 'float'>, {'mc15x': 150000.0})}, 'completion_t': '1606340671.0628464'}, '99dfece8-1237-49e9-b08b-b2ef60e3aa71': {'pending': False, 'status': 'success', 'result': {'mass': <Hist (dataset,mass) instance at 0x12ff2d690>, 'sumw': defaultdict_accumulator(<class 'float'>, {'mc15x': 150000.0})}, 'completion_t': '1606340671.117065'}, 'e0f632e8-d481-4813-97e1-ce2bb56acd26': {'pending': False, 'status': 'success', 'result': {'mass': <Hist (dataset,mass) instance at 0x12fefe550>, 'sumw': defaultdict_accumulator(<class 'float'>, {'mc15x': 125000.0})}, 'completion_t': '1606340670.8577502'}, 'fb3df10e-4b53-4d06-b7dd-21bbb34227da': {'pending': False, 'status': 'success', 'result': {'mass': <Hist (dataset,mass) instance at 0x12fef69d0>, 'sumw': defaultdict_accumulator(<class 'float'>, {'mc15x': 149800.0})}, 'completion_t': '1606340671.6047192'}, 'e0eaee52-9fb8-4664-a0f0-b19613f6ba3b': {'pending': False, 'status': 'success', 'result': {'mass': <Hist (dataset,mass) instance at 0x12ff56a10>, 'sumw': defaultdict_accumulator(<class 'float'>, {'mc15x': 150000.0})}, 'completion_t': '1606340671.751303'}, '1c9aae1f-e160-48dd-b1dd-8adbda7a3d57': {'pending': False, 'status': 'success', 'result': {'mass': <Hist (dataset,mass) instance at 0x12ff56fd0>, 'sumw': defaultdict_accumulator(<class 'float'>, {'mc15x': 150000.0})}, 'completion_t': '1606340671.7850323'}, '302678a8-4c18-47d2-9fe1-a390ce9f31bc': {'pending': False, 'status': 'success', 'result': {'mass': <Hist (dataset,mass) instance at 0x12ff56ad0>, 'sumw': defaultdict_accumulator(<class 'float'>, {'mc15x': 50000.0})}, 'completion_t': '1606340669.49493'}, 'aa39ff53-38f6-49ff-bb37-5f4dac292969': {'pending': False, 'status': 'success', 'result': {'mass': <Hist (dataset,mass) instance at 0x12fefeb10>, 'sumw': defaultdict_accumulator(<class 'float'>, {'mc15x': 150000.0})}, 'completion_t': '1606340672.1711402'}, 'a4881bbe-7dfd-44b6-bebb-3de353608681': {'pending': False, 'status': 'success', 'result': {'mass': <Hist (dataset,mass) instance at 0x12ff5bf10>, 'sumw': defaultdict_accumulator(<class 'float'>, {'mc15x': 24000.0})}, 'completion_t': '1606340669.1530588'}, '8a015212-9187-4e53-b295-5ef5f5a5f94b': {'pending': False, 'status': 'success', 'result': {'mass': <Hist (dataset,mass) instance at 0x12ff5ce10>, 'sumw': defaultdict_accumulator(<class 'float'>, {'mc15x': 150000.0})}, 'completion_t': '1606340672.6074464'}, 'd5ef141f-f887-48b6-928b-7ea2f793098f': {'pending': False, 'status': 'success', 'result': {'mass': <Hist (dataset,mass) instance at 0x12ff5cf10>, 'sumw': defaultdict_accumulator(<class 'float'>, {'mc15x': 50000.0})}, 'completion_t': '1606340670.2813785'}, '11367847-b1b6-4fc8-a3ca-c72618ba802e': {'pending': False, 'status': 'success', 'result': {'mass': <Hist (dataset,mass) instance at 0x12ff5cfd0>, 'sumw': defaultdict_accumulator(<class 'float'>, {'mc15x': 150000.0})}, 'completion_t': '1606340672.8661268'}, '35f04945-4bca-4165-967e-5f06a28adb64': {'pending': False, 'status': 'success', 'result': {'mass': <Hist (dataset,mass) instance at 0x12ff5eb90>, 'sumw': defaultdict_accumulator(<class 'float'>, {'mc15x': 45000.0})}, 'completion_t': '1606340670.4522436'}, '9fc1fb72-31e9-463d-99f9-db709f8ffe37': {'pending': False, 'status': 'success', 'result': {'mass': <Hist (dataset,mass) instance at 0x12ff5e850>, 'sumw': defaultdict_accumulator(<class 'float'>, {'mc15x': 150000.0})}, 'completion_t': '1606340673.620036'}, 'e5a0c529-52d8-4bc2-9028-4fff25d3a36a': {'pending': False, 'status': 'success', 'result': {'mass': <Hist (dataset,mass) instance at 0x12ff5ee10>, 'sumw': defaultdict_accumulator(<class 'float'>, {'mc15x': 150000.0})}, 'completion_t': '1606340673.6457305'}}\n",
      "Batch result:  {}\n",
      "{'mass': <Hist (dataset,mass) instance at 0x12ff52850>, 'sumw': defaultdict_accumulator(<class 'float'>, {'mc15x': 50000.0})}\n"
     ]
    },
    {
     "data": {
      "application/vnd.jupyter.widget-view+json": {
       "model_id": "a6f589b74d864e9089a8a1ccb7ee7b06",
       "version_major": 2,
       "version_minor": 0
      },
      "text/plain": [
       "Canvas(toolbar=Toolbar(toolitems=[('Home', 'Reset original view', 'home', 'home'), ('Back', 'Back to previous …"
      ]
     },
     "metadata": {},
     "output_type": "display_data"
    },
    {
     "name": "stdout",
     "output_type": "stream",
     "text": [
      "{'mass': <Hist (dataset,mass) instance at 0x12fbc9a10>, 'sumw': defaultdict_accumulator(<class 'float'>, {'mc15x': 150000.0})}\n",
      "{'mass': <Hist (dataset,mass) instance at 0x12fef6e50>, 'sumw': defaultdict_accumulator(<class 'float'>, {'mc15x': 150000.0})}\n",
      "{'mass': <Hist (dataset,mass) instance at 0x12ff2d690>, 'sumw': defaultdict_accumulator(<class 'float'>, {'mc15x': 150000.0})}\n",
      "{'mass': <Hist (dataset,mass) instance at 0x12fefe550>, 'sumw': defaultdict_accumulator(<class 'float'>, {'mc15x': 125000.0})}\n",
      "{'mass': <Hist (dataset,mass) instance at 0x12fef69d0>, 'sumw': defaultdict_accumulator(<class 'float'>, {'mc15x': 149800.0})}\n",
      "{'mass': <Hist (dataset,mass) instance at 0x12ff56a10>, 'sumw': defaultdict_accumulator(<class 'float'>, {'mc15x': 150000.0})}\n",
      "{'mass': <Hist (dataset,mass) instance at 0x12ff56fd0>, 'sumw': defaultdict_accumulator(<class 'float'>, {'mc15x': 150000.0})}\n",
      "{'mass': <Hist (dataset,mass) instance at 0x12ff56ad0>, 'sumw': defaultdict_accumulator(<class 'float'>, {'mc15x': 50000.0})}\n",
      "{'mass': <Hist (dataset,mass) instance at 0x12fefeb10>, 'sumw': defaultdict_accumulator(<class 'float'>, {'mc15x': 150000.0})}\n",
      "{'mass': <Hist (dataset,mass) instance at 0x12ff5bf10>, 'sumw': defaultdict_accumulator(<class 'float'>, {'mc15x': 24000.0})}\n",
      "{'mass': <Hist (dataset,mass) instance at 0x12ff5ce10>, 'sumw': defaultdict_accumulator(<class 'float'>, {'mc15x': 150000.0})}\n",
      "{'mass': <Hist (dataset,mass) instance at 0x12ff5cf10>, 'sumw': defaultdict_accumulator(<class 'float'>, {'mc15x': 50000.0})}\n",
      "{'mass': <Hist (dataset,mass) instance at 0x12ff5cfd0>, 'sumw': defaultdict_accumulator(<class 'float'>, {'mc15x': 150000.0})}\n",
      "{'mass': <Hist (dataset,mass) instance at 0x12ff5eb90>, 'sumw': defaultdict_accumulator(<class 'float'>, {'mc15x': 45000.0})}\n",
      "{'mass': <Hist (dataset,mass) instance at 0x12ff5e850>, 'sumw': defaultdict_accumulator(<class 'float'>, {'mc15x': 150000.0})}\n",
      "{'mass': <Hist (dataset,mass) instance at 0x12ff5ee10>, 'sumw': defaultdict_accumulator(<class 'float'>, {'mc15x': 150000.0})}\n"
     ]
    },
    {
     "data": {
      "text/plain": [
       "{'mass': <Hist (dataset,mass) instance at 0x12f325d50>,\n",
       " 'sumw': defaultdict_accumulator(float, {'mc15x': 1993800.0})}"
      ]
     },
     "execution_count": 7,
     "metadata": {},
     "output_type": "execute_result"
    }
   ],
   "source": [
    "%matplotlib widget\n",
    "async def plot_stream(accumulator_stream):\n",
    "  async for coffea_info in accumulator_stream:\n",
    "    # Need to ask coffea folks how to anomate this!\n",
    "    hist.plot1d(coffea_info['mass'])\n",
    "    plt.show()\n",
    "  return coffea_info\n",
    "\n",
    "await plot_stream(executor.execute(analysis, datasource))"
   ]
  },
  {
   "cell_type": "code",
   "execution_count": null,
   "metadata": {},
   "outputs": [],
   "source": []
  }
 ],
 "metadata": {
  "kernelspec": {
   "display_name": "Python 3",
   "language": "python",
   "name": "python3"
  },
  "language_info": {
   "codemirror_mode": {
    "name": "ipython",
    "version": 3
   },
   "file_extension": ".py",
   "mimetype": "text/x-python",
   "name": "python",
   "nbconvert_exporter": "python",
   "pygments_lexer": "ipython3",
   "version": "3.7.6"
  }
 },
 "nbformat": 4,
 "nbformat_minor": 4
}
