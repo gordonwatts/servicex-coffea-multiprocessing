{
 "cells": [
  {
   "cell_type": "code",
   "execution_count": 1,
   "metadata": {},
   "outputs": [],
   "source": [
    "from sx_multi.data_source import DataSource\n",
    "from sx_multi.analysis import Analysis\n",
    "from sx_multi.local_executor import LocalExecutor\n",
    "\n",
    "from sx_multi.funcx_executor import FuncXExecutor\n",
    "\n",
    "import matplotlib.pyplot as plt\n",
    "\n",
    "\n",
    "\n",
    "from servicex import ServiceXDataset\n",
    "from sx_multi import FuncAdlQastle\n",
    "from coffea import hist, processor\n"
   ]
  },
  {
   "cell_type": "code",
   "execution_count": 2,
   "metadata": {},
   "outputs": [],
   "source": [
    "dids = ['mc15_13TeV:mc15_13TeV.361106.PowhegPythia8EvtGen_AZNLOCTEQ6L1_Zee.merge.DAOD_STDM3.e3601_s2576_s2132_r6630_r6264_p2363_tid05630052_00']\n",
    "datasets = [\n",
    "    ServiceXDataset(did, backend_type='xaod')\n",
    "    for did in dids\n",
    "]"
   ]
  },
  {
   "cell_type": "code",
   "execution_count": 3,
   "metadata": {},
   "outputs": [
    {
     "data": {
      "text/plain": [
       "<func_adl.object_stream.ObjectStream at 0x131439650>"
      ]
     },
     "execution_count": 3,
     "metadata": {},
     "output_type": "execute_result"
    }
   ],
   "source": [
    "ds = FuncAdlQastle()\n",
    "leptons_per_event_query = ds \\\n",
    "        .Select(lambda e: e.Electrons(\"Electrons\")) \\\n",
    "        .Select(lambda eles: eles.Where(lambda e: e.pt()/1000.0 > 30.0)) \\\n",
    "        .Select(lambda eles: eles.Where(lambda e: abs(e.eta()) < 2.5)) \\\n",
    "        .Where(lambda eles: len(eles) == 2) \\\n",
    "        .Select(lambda ls: (ls.Select(lambda e: e.pt()/1000.0), ls.Select(lambda e: e.eta()), ls.Select(lambda e: e.phi()), ls.Select(lambda e: e.m()/1000.0))) \\\n",
    "        .AsROOTTTree('data.root', 'mytree', ('ElePt', 'EleEta', 'ElePhi', 'EleM'))\n",
    "\n",
    "leptons_per_event_query"
   ]
  },
  {
   "cell_type": "code",
   "execution_count": 4,
   "metadata": {},
   "outputs": [],
   "source": [
    "datasource = DataSource(query=leptons_per_event_query, metadata={}, datasets=datasets)"
   ]
  },
  {
   "cell_type": "code",
   "execution_count": 5,
   "metadata": {},
   "outputs": [],
   "source": [
    "class Z_EEAnalysis(Analysis):\n",
    "    def __init__(self):\n",
    "        self.accumulator = processor.dict_accumulator({\n",
    "            \"sumw\": processor.defaultdict_accumulator(float),\n",
    "            \"mass\": hist.Hist(\n",
    "                \"Events\",\n",
    "                hist.Cat(\"dataset\", \"Dataset\"),\n",
    "                hist.Bin(\"mass\", \"$Z_{ee}$ [GeV]\", 60, 60, 120),\n",
    "            ),\n",
    "        })\n",
    "\n",
    "    @staticmethod\n",
    "    def process(accumulator, events=None):\n",
    "        import awkward1 as ak\n",
    "        dataset = events.metadata['dataset']\n",
    "        electrons = ak.zip({\n",
    "            \"pt\": events.ElePt,\n",
    "            \"eta\": events.EleEta,\n",
    "            \"phi\": events.ElePhi,\n",
    "            \"mass\": events.EleM,\n",
    "            \"charge\": events.EleM,\n",
    "        }, with_name=\"PtEtaPhiMCandidate\")\n",
    "\n",
    "        # The template of the output we will send back.\n",
    "        output = accumulator.identity()\n",
    "\n",
    "        # Do the buts, form the invar mass, plot.\n",
    "        cut = (ak.num(electrons) == 2)\n",
    "        diele = electrons[cut][:, 0] + electrons[cut][:, 1]\n",
    "\n",
    "        output[\"sumw\"][dataset] += len(events)\n",
    "        output[\"mass\"].fill(\n",
    "            dataset=dataset,\n",
    "            mass=diele.mass,\n",
    "        )\n",
    "\n",
    "        return output\n",
    "\n"
   ]
  },
  {
   "cell_type": "code",
   "execution_count": 8,
   "metadata": {},
   "outputs": [
    {
     "name": "stdout",
     "output_type": "stream",
     "text": [
      "<funcx.sdk.client.FuncXClient object at 0x130a97c90>\n"
     ]
    }
   ],
   "source": [
    "analysis = Z_EEAnalysis()\n",
    "executor = FuncXExecutor(endpoint_id='d0a328a1-320d-4221-9d53-142189f77e71')\n"
   ]
  },
  {
   "cell_type": "code",
   "execution_count": 9,
   "metadata": {},
   "outputs": [
    {
     "name": "stdout",
     "output_type": "stream",
     "text": [
      "Batch result:  {}\n"
     ]
    },
    {
     "data": {
      "application/vnd.jupyter.widget-view+json": {
       "model_id": "",
       "version_major": 2,
       "version_minor": 0
      },
      "text/plain": [
       "HBox(children=(HTML(value='mc15_13TeV:mc15_13TeV.361106.PowhegPythia8EvtGen_AZNLOCTEQ6L1_Zee.merge.DAOD_STDM3.…"
      ]
     },
     "metadata": {},
     "output_type": "display_data"
    },
    {
     "data": {
      "application/vnd.jupyter.widget-view+json": {
       "model_id": "3207813b691f45efa5888bc5cc426ace",
       "version_major": 2,
       "version_minor": 0
      },
      "text/plain": [
       "HBox(children=(HTML(value='        Downloaded'), FloatProgress(value=0.0, layout=Layout(flex='2'), max=9000000…"
      ]
     },
     "metadata": {},
     "output_type": "display_data"
    },
    {
     "name": "stdout",
     "output_type": "stream",
     "text": [
      "Batch result:  {}\n",
      "Batch result:  {'792cc3c4-c4fa-4d14-aea6-c1bebbd547ce': {'pending': False, 'status': 'success', 'result': {'sumw': defaultdict_accumulator(<class 'float'>, {'mc15x': 50000.0}), 'mass': <Hist (dataset,mass) instance at 0x131bc2a90>}, 'completion_t': '1605910579.2304006'}, 'f7fd3b87-c11d-448e-b329-54e84f4377d9': {'pending': False, 'status': 'success', 'result': {'sumw': defaultdict_accumulator(<class 'float'>, {'mc15x': 150000.0}), 'mass': <Hist (dataset,mass) instance at 0x10db3ed10>}, 'completion_t': '1605910582.4611032'}, '061c304f-e45e-42bd-ba4c-ba8bc91580c5': {'pending': False, 'status': 'success', 'result': {'sumw': defaultdict_accumulator(<class 'float'>, {'mc15x': 150000.0}), 'mass': <Hist (dataset,mass) instance at 0x131bc9d90>}, 'completion_t': '1605910582.0325432'}, 'ef7a70c9-8d14-441b-9d78-795c3d146ad0': {'pending': True, 'status': 'waiting-for-ep'}, '45d137b0-faf8-4896-9915-8b5927dee9e4': {'pending': False, 'status': 'success', 'result': {'sumw': defaultdict_accumulator(<class 'float'>, {'mc15x': 125000.0}), 'mass': <Hist (dataset,mass) instance at 0x131be6290>}, 'completion_t': '1605910582.9690776'}, 'a8d788ab-d77c-49e1-b4b4-17b5a521c8f5': {'pending': True, 'status': 'waiting-for-ep'}, '980fb966-3e6d-46f9-af02-e03c31916d4f': {'pending': True, 'status': 'waiting-for-ep'}, '17243134-a2c5-4e0c-988f-95390e0ff01c': {'pending': True, 'status': 'waiting-for-ep'}, '56ed41e3-20de-4137-b35b-19a5a1323fc7': {'pending': False, 'status': 'success', 'result': {'sumw': defaultdict_accumulator(<class 'float'>, {'mc15x': 50000.0}), 'mass': <Hist (dataset,mass) instance at 0x131c38410>}, 'completion_t': '1605910580.4069786'}, '0a93c13d-b50d-4267-a24a-15f1a60863c5': {'pending': True, 'status': 'waiting-for-ep'}, 'de19cafc-73b1-40e4-92e4-8de3eaea21a0': {'pending': False, 'status': 'success', 'result': {'sumw': defaultdict_accumulator(<class 'float'>, {'mc15x': 24000.0}), 'mass': <Hist (dataset,mass) instance at 0x131c4ce50>}, 'completion_t': '1605910580.208687'}, 'dab50d79-c526-455a-8ef3-fd8bc84e7b44': {'pending': True, 'status': 'waiting-for-ep'}, 'e394c957-eb89-40e8-b700-fcbd1091641f': {'pending': False, 'status': 'success', 'result': {'sumw': defaultdict_accumulator(<class 'float'>, {'mc15x': 50000.0}), 'mass': <Hist (dataset,mass) instance at 0x131c31bd0>}, 'completion_t': '1605910581.3610623'}, '08f43322-c280-4816-99c0-3c90742acd84': {'pending': True, 'status': 'waiting-for-ep'}, '46f3bcf5-7dea-493e-ab18-4109253c2a8c': {'pending': False, 'status': 'success', 'result': {'sumw': defaultdict_accumulator(<class 'float'>, {'mc15x': 45000.0}), 'mass': <Hist (dataset,mass) instance at 0x131c41b50>}, 'completion_t': '1605910581.934247'}, '8adaffc8-bd75-4894-901d-96fc9c232a5f': {'pending': True, 'status': 'waiting-for-ep'}, 'fed58084-0a5d-402b-b260-50bdec6831a9': {'pending': True, 'status': 'waiting-for-ep'}}\n",
      "Batch result:  {'ef7a70c9-8d14-441b-9d78-795c3d146ad0': {'pending': False, 'status': 'success', 'result': {'sumw': defaultdict_accumulator(<class 'float'>, {'mc15x': 150000.0}), 'mass': <Hist (dataset,mass) instance at 0x131c41410>}, 'completion_t': '1605910583.6294086'}, 'a8d788ab-d77c-49e1-b4b4-17b5a521c8f5': {'pending': False, 'status': 'success', 'result': {'sumw': defaultdict_accumulator(<class 'float'>, {'mc15x': 149800.0}), 'mass': <Hist (dataset,mass) instance at 0x131bf26d0>}, 'completion_t': '1605910583.6776257'}, '980fb966-3e6d-46f9-af02-e03c31916d4f': {'pending': True, 'status': 'waiting-for-ep'}, '17243134-a2c5-4e0c-988f-95390e0ff01c': {'pending': True, 'status': 'waiting-for-ep'}, '0a93c13d-b50d-4267-a24a-15f1a60863c5': {'pending': True, 'status': 'waiting-for-ep'}, 'dab50d79-c526-455a-8ef3-fd8bc84e7b44': {'pending': True, 'status': 'waiting-for-ep'}, '08f43322-c280-4816-99c0-3c90742acd84': {'pending': True, 'status': 'waiting-for-ep'}, '8adaffc8-bd75-4894-901d-96fc9c232a5f': {'pending': True, 'status': 'waiting-for-ep'}, 'fed58084-0a5d-402b-b260-50bdec6831a9': {'pending': True, 'status': 'waiting-for-ep'}}\n",
      "Batch result:  {'980fb966-3e6d-46f9-af02-e03c31916d4f': {'pending': True, 'status': 'waiting-for-ep'}, '17243134-a2c5-4e0c-988f-95390e0ff01c': {'pending': True, 'status': 'waiting-for-ep'}, '0a93c13d-b50d-4267-a24a-15f1a60863c5': {'pending': True, 'status': 'waiting-for-ep'}, 'dab50d79-c526-455a-8ef3-fd8bc84e7b44': {'pending': True, 'status': 'waiting-for-ep'}, '08f43322-c280-4816-99c0-3c90742acd84': {'pending': True, 'status': 'waiting-for-ep'}, '8adaffc8-bd75-4894-901d-96fc9c232a5f': {'pending': True, 'status': 'waiting-for-ep'}, 'fed58084-0a5d-402b-b260-50bdec6831a9': {'pending': True, 'status': 'waiting-for-ep'}}\n",
      "{'sumw': defaultdict_accumulator(<class 'float'>, {'mc15x': 50000.0}), 'mass': <Hist (dataset,mass) instance at 0x131bc2a90>}\n"
     ]
    },
    {
     "data": {
      "application/vnd.jupyter.widget-view+json": {
       "model_id": "8c2c68e4df804453ac14b9f47293830a",
       "version_major": 2,
       "version_minor": 0
      },
      "text/plain": [
       "Canvas(toolbar=Toolbar(toolitems=[('Home', 'Reset original view', 'home', 'home'), ('Back', 'Back to previous …"
      ]
     },
     "metadata": {},
     "output_type": "display_data"
    },
    {
     "name": "stdout",
     "output_type": "stream",
     "text": [
      "{'sumw': defaultdict_accumulator(<class 'float'>, {'mc15x': 150000.0}), 'mass': <Hist (dataset,mass) instance at 0x10db3ed10>}\n",
      "{'sumw': defaultdict_accumulator(<class 'float'>, {'mc15x': 150000.0}), 'mass': <Hist (dataset,mass) instance at 0x131bc9d90>}\n",
      "{'sumw': defaultdict_accumulator(<class 'float'>, {'mc15x': 150000.0}), 'mass': <Hist (dataset,mass) instance at 0x131c41410>}\n",
      "{'sumw': defaultdict_accumulator(<class 'float'>, {'mc15x': 125000.0}), 'mass': <Hist (dataset,mass) instance at 0x131be6290>}\n",
      "{'sumw': defaultdict_accumulator(<class 'float'>, {'mc15x': 149800.0}), 'mass': <Hist (dataset,mass) instance at 0x131bf26d0>}\n",
      "{'sumw': defaultdict_accumulator(<class 'float'>, {'mc15x': 50000.0}), 'mass': <Hist (dataset,mass) instance at 0x131c38410>}\n",
      "{'sumw': defaultdict_accumulator(<class 'float'>, {'mc15x': 24000.0}), 'mass': <Hist (dataset,mass) instance at 0x131c4ce50>}\n",
      "{'sumw': defaultdict_accumulator(<class 'float'>, {'mc15x': 50000.0}), 'mass': <Hist (dataset,mass) instance at 0x131c31bd0>}\n",
      "{'sumw': defaultdict_accumulator(<class 'float'>, {'mc15x': 45000.0}), 'mass': <Hist (dataset,mass) instance at 0x131c41b50>}\n",
      "Batch result:  {}\n",
      "Batch result:  {'980fb966-3e6d-46f9-af02-e03c31916d4f': {'pending': False, 'status': 'success', 'result': {'sumw': defaultdict_accumulator(<class 'float'>, {'mc15x': 150000.0}), 'mass': <Hist (dataset,mass) instance at 0x131f3d2d0>}, 'completion_t': '1605910583.9853678'}, '17243134-a2c5-4e0c-988f-95390e0ff01c': {'pending': False, 'status': 'success', 'result': {'sumw': defaultdict_accumulator(<class 'float'>, {'mc15x': 150000.0}), 'mass': <Hist (dataset,mass) instance at 0x131f3d250>}, 'completion_t': '1605910584.4202812'}, '0a93c13d-b50d-4267-a24a-15f1a60863c5': {'pending': False, 'status': 'success', 'result': {'sumw': defaultdict_accumulator(<class 'float'>, {'mc15x': 150000.0}), 'mass': <Hist (dataset,mass) instance at 0x131b7a290>}, 'completion_t': '1605910584.7540805'}, 'dab50d79-c526-455a-8ef3-fd8bc84e7b44': {'pending': False, 'status': 'success', 'result': {'sumw': defaultdict_accumulator(<class 'float'>, {'mc15x': 150000.0}), 'mass': <Hist (dataset,mass) instance at 0x131f3db50>}, 'completion_t': '1605910584.868182'}, '08f43322-c280-4816-99c0-3c90742acd84': {'pending': False, 'status': 'success', 'result': {'sumw': defaultdict_accumulator(<class 'float'>, {'mc15x': 150000.0}), 'mass': <Hist (dataset,mass) instance at 0x131f3d450>}, 'completion_t': '1605910585.825181'}, '8adaffc8-bd75-4894-901d-96fc9c232a5f': {'pending': False, 'status': 'success', 'result': {'sumw': defaultdict_accumulator(<class 'float'>, {'mc15x': 150000.0}), 'mass': <Hist (dataset,mass) instance at 0x131f3f590>}, 'completion_t': '1605910585.645876'}, 'fed58084-0a5d-402b-b260-50bdec6831a9': {'pending': False, 'status': 'success', 'result': {'sumw': defaultdict_accumulator(<class 'float'>, {'mc15x': 150000.0}), 'mass': <Hist (dataset,mass) instance at 0x131f3ff90>}, 'completion_t': '1605910586.650566'}}\n",
      "Batch result:  {}\n",
      "{'sumw': defaultdict_accumulator(<class 'float'>, {'mc15x': 150000.0}), 'mass': <Hist (dataset,mass) instance at 0x131f3d2d0>}\n",
      "{'sumw': defaultdict_accumulator(<class 'float'>, {'mc15x': 150000.0}), 'mass': <Hist (dataset,mass) instance at 0x131f3d250>}\n",
      "{'sumw': defaultdict_accumulator(<class 'float'>, {'mc15x': 150000.0}), 'mass': <Hist (dataset,mass) instance at 0x131b7a290>}\n",
      "{'sumw': defaultdict_accumulator(<class 'float'>, {'mc15x': 150000.0}), 'mass': <Hist (dataset,mass) instance at 0x131f3db50>}\n",
      "{'sumw': defaultdict_accumulator(<class 'float'>, {'mc15x': 150000.0}), 'mass': <Hist (dataset,mass) instance at 0x131f3d450>}\n",
      "{'sumw': defaultdict_accumulator(<class 'float'>, {'mc15x': 150000.0}), 'mass': <Hist (dataset,mass) instance at 0x131f3f590>}\n",
      "{'sumw': defaultdict_accumulator(<class 'float'>, {'mc15x': 150000.0}), 'mass': <Hist (dataset,mass) instance at 0x131f3ff90>}\n"
     ]
    },
    {
     "data": {
      "text/plain": [
       "{'sumw': defaultdict_accumulator(float, {'mc15x': 1993800.0}),\n",
       " 'mass': <Hist (dataset,mass) instance at 0x13173fd10>}"
      ]
     },
     "execution_count": 9,
     "metadata": {},
     "output_type": "execute_result"
    }
   ],
   "source": [
    "%matplotlib widget\n",
    "async def plot_stream(accumulator_stream):\n",
    "  async for coffea_info in accumulator_stream:\n",
    "    # Need to ask coffea folks how to anomate this!\n",
    "    hist.plot1d(coffea_info['mass'])\n",
    "    plt.show()\n",
    "  return coffea_info\n",
    "\n",
    "await plot_stream(executor.execute(analysis, datasource))"
   ]
  },
  {
   "cell_type": "code",
   "execution_count": null,
   "metadata": {},
   "outputs": [],
   "source": []
  }
 ],
 "metadata": {
  "kernelspec": {
   "display_name": "Python 3",
   "language": "python",
   "name": "python3"
  },
  "language_info": {
   "codemirror_mode": {
    "name": "ipython",
    "version": 3
   },
   "file_extension": ".py",
   "mimetype": "text/x-python",
   "name": "python",
   "nbconvert_exporter": "python",
   "pygments_lexer": "ipython3",
   "version": "3.7.6"
  }
 },
 "nbformat": 4,
 "nbformat_minor": 4
}
