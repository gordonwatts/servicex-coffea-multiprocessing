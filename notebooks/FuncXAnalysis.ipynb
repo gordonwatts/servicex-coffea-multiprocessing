{
 "cells": [
  {
   "cell_type": "code",
   "execution_count": 1,
   "metadata": {},
   "outputs": [],
   "source": [
    "from sx_multi import DataSource\n",
    "from sx_multi import Analysis\n",
    "from sx_multi import Accumulator\n",
    "from sx_multi import LocalExecutor\n",
    "\n",
    "from sx_multi import FuncXExecutor\n",
    "\n",
    "import matplotlib.pyplot as plt\n",
    "\n",
    "\n",
    "\n",
    "from servicex import ServiceXDataset\n",
    "from sx_multi import FuncAdlDataset\n",
    "from coffea import hist, processor\n"
   ]
  },
  {
   "cell_type": "code",
   "execution_count": 2,
   "metadata": {},
   "outputs": [],
   "source": [
    "dids = ['mc15_13TeV:mc15_13TeV.361106.PowhegPythia8EvtGen_AZNLOCTEQ6L1_Zee.merge.DAOD_STDM3.e3601_s2576_s2132_r6630_r6264_p2363_tid05630052_00']\n",
    "datasets = [\n",
    "    ServiceXDataset(did, backend_type='xaod')\n",
    "    for did in dids\n",
    "]"
   ]
  },
  {
   "cell_type": "code",
   "execution_count": 3,
   "metadata": {},
   "outputs": [],
   "source": [
    "leptons_per_event_query = FuncAdlDataset() \\\n",
    "        .Select(lambda e: e.Electrons(\"Electrons\")) \\\n",
    "        .Select(lambda eles: eles.Where(lambda e: e.pt()/1000.0 > 30.0)) \\\n",
    "        .Select(lambda eles: eles.Where(lambda e: abs(e.eta()) < 2.5)) \\\n",
    "        .Where(lambda eles: len(eles) == 2) \\\n",
    "        .Select(lambda ls: (ls.Select(lambda e: e.pt()/1000.0), ls.Select(lambda e: e.eta()), ls.Select(lambda e: e.phi()), ls.Select(lambda e: e.m()/1000.0))) \\\n",
    "        .AsROOTTTree('data.root', 'mytree', ('ElePt', 'EleEta', 'ElePhi', 'EleM'))"
   ]
  },
  {
   "cell_type": "code",
   "execution_count": 4,
   "metadata": {},
   "outputs": [],
   "source": [
    "datasource = DataSource(query=leptons_per_event_query, metadata={}, datasets=datasets)"
   ]
  },
  {
   "cell_type": "code",
   "execution_count": 5,
   "metadata": {},
   "outputs": [],
   "source": [
    "class Z_EEAnalysis(Analysis):\n",
    "    def __init__(self):\n",
    "        self.accumulator = Accumulator({\n",
    "            \"mass\": hist.Hist(\n",
    "                \"Events\",\n",
    "                hist.Cat(\"dataset\", \"Dataset\"),\n",
    "                hist.Bin(\"mass\", \"$Z_{ee}$ [GeV]\", 60, 60, 120),\n",
    "            ),\n",
    "        })\n",
    "\n",
    "    @staticmethod\n",
    "    def process(output, events):\n",
    "        from sx_multi import Accumulator\n",
    "        import awkward1 as ak\n",
    "        dataset = events.metadata['dataset']\n",
    "        electrons = ak.zip({\n",
    "            \"pt\": events.ElePt,\n",
    "            \"eta\": events.EleEta,\n",
    "            \"phi\": events.ElePhi,\n",
    "            \"mass\": events.EleM,\n",
    "            \"charge\": events.EleM,\n",
    "        }, with_name=\"PtEtaPhiMCandidate\")\n",
    "\n",
    "        # Form the invar mass, plot.\n",
    "        cut = (ak.num(electrons) == 2)\n",
    "        diele = electrons[cut][:, 0] + electrons[cut][:, 1]\n",
    "\n",
    "        output[\"sumw\"][dataset] += len(events)\n",
    "        output[\"mass\"].fill(\n",
    "            dataset=dataset,\n",
    "            mass=diele.mass,\n",
    "        )\n",
    "\n",
    "        return output\n",
    "\n"
   ]
  },
  {
   "cell_type": "code",
   "execution_count": 6,
   "metadata": {},
   "outputs": [],
   "source": [
    "analysis = Z_EEAnalysis()\n",
    "# executor = FuncXExecutor(endpoint_id='d0a328a1-320d-4221-9d53-142189f77e71')\n",
    "executor = FuncXExecutor(endpoint_id='d0a328a1-320d-4221-9d53-142189f77e71')"
   ]
  },
  {
   "cell_type": "code",
   "execution_count": 7,
   "metadata": {},
   "outputs": [
    {
     "name": "stdout",
     "output_type": "stream",
     "text": [
      "Batch result:  {}\n"
     ]
    },
    {
     "data": {
      "application/vnd.jupyter.widget-view+json": {
       "model_id": "",
       "version_major": 2,
       "version_minor": 0
      },
      "text/plain": [
       "HBox(children=(HTML(value='mc15_13TeV:mc15_13TeV.361106.PowhegPythia8EvtGen_AZNLOCTEQ6L1_Zee.merge.DAOD_STDM3.…"
      ]
     },
     "metadata": {},
     "output_type": "display_data"
    },
    {
     "data": {
      "application/vnd.jupyter.widget-view+json": {
       "model_id": "3cff6fe1d15742fb83da1a10b44e810a",
       "version_major": 2,
       "version_minor": 0
      },
      "text/plain": [
       "HBox(children=(HTML(value='        Downloaded'), FloatProgress(value=0.0, layout=Layout(flex='2'), max=9000000…"
      ]
     },
     "metadata": {},
     "output_type": "display_data"
    },
    {
     "name": "stdout",
     "output_type": "stream",
     "text": [
      "Batch result:  {'90896b4f-4f9f-4b24-9d88-20718fb3d917': {'pending': False, 'status': 'success', 'result': {'mass': <Hist (dataset,mass) instance at 0x12de81190>, 'sumw': defaultdict_accumulator(<class 'float'>, {'mc15x': 50000.0})}, 'completion_t': '1606248569.4636986'}, '941122d7-b7b3-4c6d-a16f-106d67bd5cd1': {'pending': False, 'status': 'success', 'result': {'mass': <Hist (dataset,mass) instance at 0x12de9dd10>, 'sumw': defaultdict_accumulator(<class 'float'>, {'mc15x': 150000.0})}, 'completion_t': '1606248574.1603699'}, '07365d53-1a67-425d-aa80-5b84ee175574': {'pending': False, 'status': 'success', 'result': {'mass': <Hist (dataset,mass) instance at 0x12de9d7d0>, 'sumw': defaultdict_accumulator(<class 'float'>, {'mc15x': 150000.0})}, 'completion_t': '1606248573.0337312'}, 'c06de935-fb29-40d2-b1a8-6f743f9376ca': {'pending': False, 'status': 'success', 'result': {'mass': <Hist (dataset,mass) instance at 0x12de9dc50>, 'sumw': defaultdict_accumulator(<class 'float'>, {'mc15x': 150000.0})}, 'completion_t': '1606248573.0841696'}, '6b74a8ce-f0c6-4055-8a3f-6fc8e6a306e8': {'pending': False, 'status': 'success', 'result': {'mass': <Hist (dataset,mass) instance at 0x12dea7350>, 'sumw': defaultdict_accumulator(<class 'float'>, {'mc15x': 125000.0})}, 'completion_t': '1606248572.5326877'}, 'c92b4af0-f010-4328-9aed-64be672c5e9f': {'pending': False, 'status': 'success', 'result': {'mass': <Hist (dataset,mass) instance at 0x12dea7bd0>, 'sumw': defaultdict_accumulator(<class 'float'>, {'mc15x': 149800.0})}, 'completion_t': '1606248573.5517433'}, 'c88ebcb4-8759-4a57-a28d-f6f6302cc1d1': {'pending': False, 'status': 'success', 'result': {'mass': <Hist (dataset,mass) instance at 0x12dea7ed0>, 'sumw': defaultdict_accumulator(<class 'float'>, {'mc15x': 150000.0})}, 'completion_t': '1606248573.7815595'}, 'ddeb9d47-ec78-49ea-8b55-b0adde7f2d65': {'pending': False, 'status': 'success', 'result': {'mass': <Hist (dataset,mass) instance at 0x12deb0fd0>, 'sumw': defaultdict_accumulator(<class 'float'>, {'mc15x': 150000.0})}, 'completion_t': '1606248573.7699814'}, '89f02fa3-e945-45e4-aa6f-7b69f4c74204': {'pending': False, 'status': 'success', 'result': {'mass': <Hist (dataset,mass) instance at 0x12deb0c50>, 'sumw': defaultdict_accumulator(<class 'float'>, {'mc15x': 50000.0})}, 'completion_t': '1606248570.896892'}, 'e3246baf-d5aa-4b7e-bbb9-dbbaf336a150': {'pending': False, 'status': 'success', 'result': {'mass': <Hist (dataset,mass) instance at 0x12deb0dd0>, 'sumw': defaultdict_accumulator(<class 'float'>, {'mc15x': 150000.0})}, 'completion_t': '1606248574.2309217'}, 'afa84723-b91f-4ae6-bbe5-cfceafd4a1da': {'pending': False, 'status': 'success', 'result': {'mass': <Hist (dataset,mass) instance at 0x12deb2c90>, 'sumw': defaultdict_accumulator(<class 'float'>, {'mc15x': 24000.0})}, 'completion_t': '1606248570.3895404'}, 'd22ef9c7-5795-4623-831d-6831261e32a0': {'pending': False, 'status': 'success', 'result': {'mass': <Hist (dataset,mass) instance at 0x12deb2ed0>, 'sumw': defaultdict_accumulator(<class 'float'>, {'mc15x': 150000.0})}, 'completion_t': '1606248574.3619325'}, 'b15c6eec-7f62-4f70-a43e-019f76260912': {'pending': False, 'status': 'success', 'result': {'mass': <Hist (dataset,mass) instance at 0x12deb3e10>, 'sumw': defaultdict_accumulator(<class 'float'>, {'mc15x': 50000.0})}, 'completion_t': '1606248571.594145'}, '336c87c4-9a5d-4724-9c94-4b06d07fa46e': {'pending': False, 'status': 'success', 'result': {'mass': <Hist (dataset,mass) instance at 0x12deb3f10>, 'sumw': defaultdict_accumulator(<class 'float'>, {'mc15x': 150000.0})}, 'completion_t': '1606248574.8572755'}, 'c9ffab0f-e9b1-451d-bcb9-e8ab252098ce': {'pending': False, 'status': 'success', 'result': {'mass': <Hist (dataset,mass) instance at 0x12deb38d0>, 'sumw': defaultdict_accumulator(<class 'float'>, {'mc15x': 45000.0})}, 'completion_t': '1606248571.9432101'}, '69ba09d2-4793-4b7a-b377-d691a322cdcc': {'pending': False, 'status': 'success', 'result': {'mass': <Hist (dataset,mass) instance at 0x12de58050>, 'sumw': defaultdict_accumulator(<class 'float'>, {'mc15x': 150000.0})}, 'completion_t': '1606248575.5934389'}, '857f9e2a-5b9b-43cf-bb4d-b7a05bce0a92': {'pending': False, 'status': 'success', 'result': {'mass': <Hist (dataset,mass) instance at 0x12deb7850>, 'sumw': defaultdict_accumulator(<class 'float'>, {'mc15x': 150000.0})}, 'completion_t': '1606248575.4744985'}}\n",
      "Batch result:  {}\n",
      "{'mass': <Hist (dataset,mass) instance at 0x12de81190>, 'sumw': defaultdict_accumulator(<class 'float'>, {'mc15x': 50000.0})}\n"
     ]
    },
    {
     "data": {
      "application/vnd.jupyter.widget-view+json": {
       "model_id": "37ac493a5ff44e6dbc38e95f9bf95833",
       "version_major": 2,
       "version_minor": 0
      },
      "text/plain": [
       "Canvas(toolbar=Toolbar(toolitems=[('Home', 'Reset original view', 'home', 'home'), ('Back', 'Back to previous …"
      ]
     },
     "metadata": {},
     "output_type": "display_data"
    },
    {
     "name": "stdout",
     "output_type": "stream",
     "text": [
      "{'mass': <Hist (dataset,mass) instance at 0x12de9dd10>, 'sumw': defaultdict_accumulator(<class 'float'>, {'mc15x': 150000.0})}\n",
      "{'mass': <Hist (dataset,mass) instance at 0x12de9d7d0>, 'sumw': defaultdict_accumulator(<class 'float'>, {'mc15x': 150000.0})}\n",
      "{'mass': <Hist (dataset,mass) instance at 0x12de9dc50>, 'sumw': defaultdict_accumulator(<class 'float'>, {'mc15x': 150000.0})}\n",
      "{'mass': <Hist (dataset,mass) instance at 0x12dea7350>, 'sumw': defaultdict_accumulator(<class 'float'>, {'mc15x': 125000.0})}\n",
      "{'mass': <Hist (dataset,mass) instance at 0x12dea7bd0>, 'sumw': defaultdict_accumulator(<class 'float'>, {'mc15x': 149800.0})}\n",
      "{'mass': <Hist (dataset,mass) instance at 0x12dea7ed0>, 'sumw': defaultdict_accumulator(<class 'float'>, {'mc15x': 150000.0})}\n",
      "{'mass': <Hist (dataset,mass) instance at 0x12deb0fd0>, 'sumw': defaultdict_accumulator(<class 'float'>, {'mc15x': 150000.0})}\n",
      "{'mass': <Hist (dataset,mass) instance at 0x12deb0c50>, 'sumw': defaultdict_accumulator(<class 'float'>, {'mc15x': 50000.0})}\n",
      "{'mass': <Hist (dataset,mass) instance at 0x12deb0dd0>, 'sumw': defaultdict_accumulator(<class 'float'>, {'mc15x': 150000.0})}\n",
      "{'mass': <Hist (dataset,mass) instance at 0x12deb2c90>, 'sumw': defaultdict_accumulator(<class 'float'>, {'mc15x': 24000.0})}\n",
      "{'mass': <Hist (dataset,mass) instance at 0x12deb2ed0>, 'sumw': defaultdict_accumulator(<class 'float'>, {'mc15x': 150000.0})}\n",
      "{'mass': <Hist (dataset,mass) instance at 0x12deb3e10>, 'sumw': defaultdict_accumulator(<class 'float'>, {'mc15x': 50000.0})}\n",
      "{'mass': <Hist (dataset,mass) instance at 0x12deb3f10>, 'sumw': defaultdict_accumulator(<class 'float'>, {'mc15x': 150000.0})}\n",
      "{'mass': <Hist (dataset,mass) instance at 0x12deb38d0>, 'sumw': defaultdict_accumulator(<class 'float'>, {'mc15x': 45000.0})}\n",
      "{'mass': <Hist (dataset,mass) instance at 0x12de58050>, 'sumw': defaultdict_accumulator(<class 'float'>, {'mc15x': 150000.0})}\n",
      "{'mass': <Hist (dataset,mass) instance at 0x12deb7850>, 'sumw': defaultdict_accumulator(<class 'float'>, {'mc15x': 150000.0})}\n"
     ]
    },
    {
     "data": {
      "text/plain": [
       "{'mass': <Hist (dataset,mass) instance at 0x12dc14590>,\n",
       " 'sumw': defaultdict_accumulator(float, {'mc15x': 1993800.0})}"
      ]
     },
     "execution_count": 7,
     "metadata": {},
     "output_type": "execute_result"
    }
   ],
   "source": [
    "%matplotlib widget\n",
    "async def plot_stream(accumulator_stream):\n",
    "  async for coffea_info in accumulator_stream:\n",
    "    # Need to ask coffea folks how to anomate this!\n",
    "    hist.plot1d(coffea_info['mass'])\n",
    "    plt.show()\n",
    "  return coffea_info\n",
    "\n",
    "await plot_stream(executor.execute(analysis, datasource))"
   ]
  },
  {
   "cell_type": "code",
   "execution_count": null,
   "metadata": {},
   "outputs": [],
   "source": []
  }
 ],
 "metadata": {
  "kernelspec": {
   "display_name": "Python 3",
   "language": "python",
   "name": "python3"
  },
  "language_info": {
   "codemirror_mode": {
    "name": "ipython",
    "version": 3
   },
   "file_extension": ".py",
   "mimetype": "text/x-python",
   "name": "python",
   "nbconvert_exporter": "python",
   "pygments_lexer": "ipython3",
   "version": "3.7.6"
  }
 },
 "nbformat": 4,
 "nbformat_minor": 4
}
